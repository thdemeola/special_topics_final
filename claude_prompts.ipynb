{
 "cells": [
  {
   "cell_type": "code",
   "execution_count": null,
   "id": "e657168c",
   "metadata": {},
   "outputs": [],
   "source": [
    "# You must run this cell to install the Claude API\n",
    "# You must have an account at claude.ai and you must be logged in through your browser\n",
    "# and have allowed cookies on claude.ai to use this API.\n",
    "!pip install unofficial-claude2-api"
   ]
  },
  {
   "cell_type": "markdown",
   "id": "a14e31db",
   "metadata": {},
   "source": [
    "## Create prompts.json"
   ]
  },
  {
   "cell_type": "code",
   "execution_count": null,
   "id": "23306cc9",
   "metadata": {},
   "outputs": [],
   "source": [
    "import json\n",
    "# Open list of quotes from quotes.txt\n",
    "with open(\"quotes.txt\", 'r') as inp:\n",
    "    data = inp.readlines()\n",
    "    \n",
    "# Open prompt template from prompt_template.txt\n",
    "with open(\"prompt_template.txt\", 'r') as templ:\n",
    "    templ = templ.readlines()"
   ]
  },
  {
   "cell_type": "code",
   "execution_count": null,
   "id": "f8683c6d",
   "metadata": {},
   "outputs": [],
   "source": [
    "# Create prompt dictionary with definition, prompt, cue, and inserting \n",
    "cleaned_templ = [element for element in templ if element != \"\\n\"]\n",
    "\n",
    "dicts = []\n",
    "counter = 1\n",
    "\n",
    "for item in data:\n",
    "    definition = cleaned_templ[0]\n",
    "    prompt = cleaned_templ[1]\n",
    "    cue = cleaned_templ[2]\n",
    "    \n",
    "    prompt_dict = {'prompt_num': counter, 'content': {'definition': definition, 'prompt': prompt, 'cue': cue, 'quote': item}}\n",
    "    dicts.append(prompt_dict)\n",
    "    counter += 1"
   ]
  },
  {
   "cell_type": "code",
   "execution_count": null,
   "id": "6ef9d321",
   "metadata": {},
   "outputs": [],
   "source": [
    "# Save prompt dictionary in json format\n",
    "with open(\"prompts.json\", 'w') as out:\n",
    "    json.dump(dicts, out)"
   ]
  },
  {
   "cell_type": "markdown",
   "id": "7d8ed962",
   "metadata": {},
   "source": [
    "## Interfacing with Claude"
   ]
  },
  {
   "cell_type": "code",
   "execution_count": null,
   "id": "5b6a3945",
   "metadata": {},
   "outputs": [],
   "source": [
    "from claude2_api import *\n",
    "import json\n",
    "import time\n",
    "\n",
    "# Open prompts.json\n",
    "with open(\"prompts.json\", 'r') as data:\n",
    "    prompts = json.load(data)"
   ]
  },
  {
   "cell_type": "code",
   "execution_count": null,
   "id": "0207d239",
   "metadata": {},
   "outputs": [],
   "source": [
    "# You must have an account at claude.ai and you must be logged in through your browser\n",
    "# and have allowed cookies on claude.ai before running this code.\n",
    "session = get_session_data()\n",
    "client = ClaudeAPIClient(session, timeout=240)"
   ]
  },
  {
   "cell_type": "code",
   "execution_count": null,
   "id": "38904c7f",
   "metadata": {},
   "outputs": [],
   "source": [
    "responses = []\n",
    "\n",
    "# Change whether to include or exclude definitions in prompts\n",
    "include_defs = False\n",
    "\n",
    "for item in prompts:\n",
    "    chat_id = client.create_chat()\n",
    "    \n",
    "    message_to_send = (f\"{item['content']['definition']}\\n{item['content']['prompt']}\\n{item['content']['cue']}\\n{item['content']['quote']}\") if include_defs == True else (f\"{item['content']['prompt']}\\n{item['content']['cue']}\\n{item['content']['quote']}\")\n",
    "    res = client.send_message(chat_id, message_to_send)\n",
    "    item['content']['response'] = res.answer\n",
    "    if include_defs == False:\n",
    "        del item['content']['definition']\n",
    "    responses.append(item)\n",
    "    print('Sleeping to avoid detection ;)')\n",
    "    time.sleep(30)\n",
    "    \n",
    "if include_defs == False:\n",
    "    with open(\"responses_no_def.json\", 'w') as out:\n",
    "        json.dump(responses, out)\n",
    "else:\n",
    "    with open(\"responses_with_def.json\", 'w') as out:\n",
    "        json.dump(responses, out)"
   ]
  }
 ],
 "metadata": {
  "kernelspec": {
   "display_name": "Python 3 (ipykernel)",
   "language": "python",
   "name": "python3"
  },
  "language_info": {
   "codemirror_mode": {
    "name": "ipython",
    "version": 3
   },
   "file_extension": ".py",
   "mimetype": "text/x-python",
   "name": "python",
   "nbconvert_exporter": "python",
   "pygments_lexer": "ipython3",
   "version": "3.11.1"
  }
 },
 "nbformat": 4,
 "nbformat_minor": 5
}
