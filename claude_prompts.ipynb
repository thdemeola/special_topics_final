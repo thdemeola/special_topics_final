{
 "cells": [
  {
   "cell_type": "code",
   "execution_count": 43,
   "id": "e657168c",
   "metadata": {
    "collapsed": true
   },
   "outputs": [
    {
     "name": "stdout",
     "output_type": "stream",
     "text": [
      "Requirement already satisfied: unofficial-claude2-api in /Library/Frameworks/Python.framework/Versions/3.11/lib/python3.11/site-packages (0.3.0)\n",
      "Requirement already satisfied: requests in /Library/Frameworks/Python.framework/Versions/3.11/lib/python3.11/site-packages (from unofficial-claude2-api) (2.28.2)\n",
      "Requirement already satisfied: selgym in /Library/Frameworks/Python.framework/Versions/3.11/lib/python3.11/site-packages (from unofficial-claude2-api) (0.1.6)\n",
      "Requirement already satisfied: curl-cffi in /Library/Frameworks/Python.framework/Versions/3.11/lib/python3.11/site-packages (from unofficial-claude2-api) (0.6.2)\n",
      "Requirement already satisfied: tzlocal in /Library/Frameworks/Python.framework/Versions/3.11/lib/python3.11/site-packages (from unofficial-claude2-api) (5.2)\n",
      "Requirement already satisfied: brotli in /Library/Frameworks/Python.framework/Versions/3.11/lib/python3.11/site-packages (from unofficial-claude2-api) (1.1.0)\n",
      "Requirement already satisfied: cffi>=1.12.0 in /Library/Frameworks/Python.framework/Versions/3.11/lib/python3.11/site-packages (from curl-cffi->unofficial-claude2-api) (1.15.1)\n",
      "Requirement already satisfied: certifi in /Library/Frameworks/Python.framework/Versions/3.11/lib/python3.11/site-packages (from curl-cffi->unofficial-claude2-api) (2022.12.7)\n",
      "Requirement already satisfied: charset-normalizer<4,>=2 in /Library/Frameworks/Python.framework/Versions/3.11/lib/python3.11/site-packages (from requests->unofficial-claude2-api) (3.1.0)\n",
      "Requirement already satisfied: idna<4,>=2.5 in /Library/Frameworks/Python.framework/Versions/3.11/lib/python3.11/site-packages (from requests->unofficial-claude2-api) (3.4)\n",
      "Requirement already satisfied: urllib3<1.27,>=1.21.1 in /Library/Frameworks/Python.framework/Versions/3.11/lib/python3.11/site-packages (from requests->unofficial-claude2-api) (1.26.15)\n",
      "Requirement already satisfied: selenium in /Library/Frameworks/Python.framework/Versions/3.11/lib/python3.11/site-packages (from selgym->unofficial-claude2-api) (4.18.1)\n",
      "Requirement already satisfied: screeninfo in /Library/Frameworks/Python.framework/Versions/3.11/lib/python3.11/site-packages (from selgym->unofficial-claude2-api) (0.8.1)\n",
      "Requirement already satisfied: pycparser in /Library/Frameworks/Python.framework/Versions/3.11/lib/python3.11/site-packages (from cffi>=1.12.0->curl-cffi->unofficial-claude2-api) (2.21)\n",
      "Requirement already satisfied: Cython in /Library/Frameworks/Python.framework/Versions/3.11/lib/python3.11/site-packages (from screeninfo->selgym->unofficial-claude2-api) (3.0.9)\n",
      "Requirement already satisfied: pyobjc-framework-Cocoa in /Library/Frameworks/Python.framework/Versions/3.11/lib/python3.11/site-packages (from screeninfo->selgym->unofficial-claude2-api) (10.2)\n",
      "Requirement already satisfied: trio~=0.17 in /Library/Frameworks/Python.framework/Versions/3.11/lib/python3.11/site-packages (from selenium->selgym->unofficial-claude2-api) (0.25.0)\n",
      "Requirement already satisfied: trio-websocket~=0.9 in /Library/Frameworks/Python.framework/Versions/3.11/lib/python3.11/site-packages (from selenium->selgym->unofficial-claude2-api) (0.11.1)\n",
      "Requirement already satisfied: typing_extensions>=4.9.0 in /Library/Frameworks/Python.framework/Versions/3.11/lib/python3.11/site-packages (from selenium->selgym->unofficial-claude2-api) (4.10.0)\n",
      "Requirement already satisfied: attrs>=23.2.0 in /Library/Frameworks/Python.framework/Versions/3.11/lib/python3.11/site-packages (from trio~=0.17->selenium->selgym->unofficial-claude2-api) (23.2.0)\n",
      "Requirement already satisfied: sortedcontainers in /Library/Frameworks/Python.framework/Versions/3.11/lib/python3.11/site-packages (from trio~=0.17->selenium->selgym->unofficial-claude2-api) (2.4.0)\n",
      "Requirement already satisfied: outcome in /Library/Frameworks/Python.framework/Versions/3.11/lib/python3.11/site-packages (from trio~=0.17->selenium->selgym->unofficial-claude2-api) (1.3.0.post0)\n",
      "Requirement already satisfied: sniffio>=1.3.0 in /Library/Frameworks/Python.framework/Versions/3.11/lib/python3.11/site-packages (from trio~=0.17->selenium->selgym->unofficial-claude2-api) (1.3.0)\n",
      "Requirement already satisfied: wsproto>=0.14 in /Library/Frameworks/Python.framework/Versions/3.11/lib/python3.11/site-packages (from trio-websocket~=0.9->selenium->selgym->unofficial-claude2-api) (1.2.0)\n",
      "Requirement already satisfied: PySocks!=1.5.7,<2.0,>=1.5.6 in /Library/Frameworks/Python.framework/Versions/3.11/lib/python3.11/site-packages (from urllib3[socks]<3,>=1.26->selenium->selgym->unofficial-claude2-api) (1.7.1)\n",
      "Requirement already satisfied: pyobjc-core>=10.2 in /Library/Frameworks/Python.framework/Versions/3.11/lib/python3.11/site-packages (from pyobjc-framework-Cocoa->screeninfo->selgym->unofficial-claude2-api) (10.2)\n",
      "Requirement already satisfied: h11<1,>=0.9.0 in /Library/Frameworks/Python.framework/Versions/3.11/lib/python3.11/site-packages (from wsproto>=0.14->trio-websocket~=0.9->selenium->selgym->unofficial-claude2-api) (0.14.0)\n"
     ]
    },
    {
     "name": "stderr",
     "output_type": "stream",
     "text": [
      "\n",
      "\u001b[1m[\u001b[0m\u001b[34;49mnotice\u001b[0m\u001b[1;39;49m]\u001b[0m\u001b[39;49m A new release of pip is available: \u001b[0m\u001b[31;49m23.3.2\u001b[0m\u001b[39;49m -> \u001b[0m\u001b[32;49m24.0\u001b[0m\n",
      "\u001b[1m[\u001b[0m\u001b[34;49mnotice\u001b[0m\u001b[1;39;49m]\u001b[0m\u001b[39;49m To update, run: \u001b[0m\u001b[32;49mpython3.11 -m pip install --upgrade pip\u001b[0m\n"
     ]
    }
   ],
   "source": [
    "# You must run this cell to install the Claude API\n",
    "# You must have an account at claude.ai and you must be logged in through your browser\n",
    "# and have allowed cookies on claude.ai to use this API.\n",
    "%%bash\n",
    "pip install unofficial-claude2-api"
   ]
  },
  {
   "cell_type": "markdown",
   "id": "a14e31db",
   "metadata": {},
   "source": [
    "## Create prompts.json"
   ]
  },
  {
   "cell_type": "code",
   "execution_count": 38,
   "id": "23306cc9",
   "metadata": {},
   "outputs": [],
   "source": [
    "import json\n",
    "# Open list of quotes from quotes.txt\n",
    "with open(\"quotes.txt\", 'r') as inp:\n",
    "    data = inp.readlines()\n",
    "    \n",
    "# Open prompt template from prompt_template.txt\n",
    "with open(\"prompt_template.txt\", 'r') as templ:\n",
    "    templ = templ.readlines()"
   ]
  },
  {
   "cell_type": "code",
   "execution_count": 30,
   "id": "f8683c6d",
   "metadata": {},
   "outputs": [],
   "source": [
    "# Create prompt dictionary with definition, prompt, cue, and inserting \n",
    "cleaned_templ = [element for element in templ if element != \"\\n\"]\n",
    "\n",
    "dicts = []\n",
    "counter = 1\n",
    "\n",
    "for item in data:\n",
    "    definition = cleaned_templ[0]\n",
    "    prompt = cleaned_templ[1]\n",
    "    cue = cleaned_templ[2]\n",
    "    \n",
    "    prompt_dict = {'prompt_num': counter, 'content': {'definition': definition, 'prompt': prompt, 'cue': cue, 'quote': item}}\n",
    "    dicts.append(prompt_dict)\n",
    "    counter += 1"
   ]
  },
  {
   "cell_type": "code",
   "execution_count": 31,
   "id": "6ef9d321",
   "metadata": {},
   "outputs": [],
   "source": [
    "# Save prompt dictionary in json format\n",
    "with open(\"prompts.json\", 'w') as out:\n",
    "    json.dump(dicts, out)"
   ]
  },
  {
   "cell_type": "markdown",
   "id": "7d8ed962",
   "metadata": {},
   "source": [
    "## Interfacing with Claude"
   ]
  },
  {
   "cell_type": "code",
   "execution_count": 39,
   "id": "5b6a3945",
   "metadata": {},
   "outputs": [],
   "source": [
    "from claude2_api import *\n",
    "import json\n",
    "import time\n",
    "\n",
    "# Open prompts.json\n",
    "with open(\"prompts.json\", 'r') as data:\n",
    "    prompts = json.load(data)"
   ]
  },
  {
   "cell_type": "code",
   "execution_count": 40,
   "id": "0207d239",
   "metadata": {},
   "outputs": [
    {
     "name": "stdout",
     "output_type": "stream",
     "text": [
      "\n",
      "Retrieving Claude session cookie from /Users/tommaso/Library/Application Support/Firefox/Profiles/3lfzffia.default-release\n"
     ]
    }
   ],
   "source": [
    "# You must have an account at claude.ai and you must be logged in through your browser\n",
    "# and have allowed cookies on claude.ai before running this code.\n",
    "session = get_session_data()\n",
    "client = ClaudeAPIClient(session, timeout=240)"
   ]
  },
  {
   "cell_type": "code",
   "execution_count": 41,
   "id": "38904c7f",
   "metadata": {},
   "outputs": [
    {
     "name": "stdout",
     "output_type": "stream",
     "text": [
      "Sleeping to avoid detection ;)\n",
      "Sleeping to avoid detection ;)\n",
      "Sleeping to avoid detection ;)\n",
      "Sleeping to avoid detection ;)\n",
      "Sleeping to avoid detection ;)\n",
      "Sleeping to avoid detection ;)\n"
     ]
    }
   ],
   "source": [
    "responses = []\n",
    "\n",
    "# Change whether to include or exclude definitions in prompts\n",
    "include_defs = False\n",
    "\n",
    "for item in prompts:\n",
    "    chat_id = client.create_chat()\n",
    "    \n",
    "    message_to_send = (f\"{item['content']['definition']}\\n{item['content']['prompt']}\\n{item['content']['cue']}\\n{item['content']['quote']}\") if include_defs == True else (f\"{item['content']['prompt']}\\n{item['content']['cue']}\\n{item['content']['quote']}\")\n",
    "    res = client.send_message(chat_id, message_to_send)\n",
    "    item['content']['response'] = res.answer\n",
    "    if include_defs == False:\n",
    "        del item['content']['definition']\n",
    "    responses.append(item)\n",
    "    print('Sleeping to avoid detection ;)')\n",
    "    time.sleep(30)\n",
    "    \n",
    "if include_defs == False:\n",
    "    with open(\"responses_no_def.json\", 'w') as out:\n",
    "        json.dump(responses, out)\n",
    "else:\n",
    "    with open(\"responses_with_def.json\", 'w') as out:\n",
    "        json.dump(responses, out)"
   ]
  }
 ],
 "metadata": {
  "kernelspec": {
   "display_name": "spec_tops",
   "language": "python",
   "name": "spec_tops"
  },
  "language_info": {
   "codemirror_mode": {
    "name": "ipython",
    "version": 3
   },
   "file_extension": ".py",
   "mimetype": "text/x-python",
   "name": "python",
   "nbconvert_exporter": "python",
   "pygments_lexer": "ipython3",
   "version": "3.11.1"
  }
 },
 "nbformat": 4,
 "nbformat_minor": 5
}
